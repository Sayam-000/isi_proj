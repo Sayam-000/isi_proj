{
 "cells": [
  {
   "cell_type": "code",
   "execution_count": 1,
   "metadata": {
    "id": "RBciFg1XrviE"
   },
   "outputs": [],
   "source": [
    "import cv2\n",
    "import os\n",
    "import torch \n",
    "import torchvision\n",
    "import torch.nn as nn\n",
    "import torchvision.transforms as transforms\n",
    "import torch.optim as optim\n",
    "import matplotlib.pyplot as plt\n",
    "import torch.nn.functional as F\n",
    "from torch.utils.data import Dataset\n",
    "from torchvision import datasets\n",
    "from torch.utils.data import DataLoader\n",
    "import random\n",
    "import numpy as np\n",
    "import pandas as pd\n",
    "from torchvision.io import read_image\n",
    "from skimage import io, transform\n",
    "from sklearn.preprocessing import MultiLabelBinarizer\n",
    "import torchvision.models as tmodels"
   ]
  },
  {
   "cell_type": "markdown",
   "metadata": {
    "id": "gHqDZqBfr_jR"
   },
   "source": [
    "**Multi Label Classification**"
   ]
  },
  {
   "cell_type": "markdown",
   "metadata": {
    "id": "dT5kQbzQsHk4"
   },
   "source": [
    "Load DataSet"
   ]
  },
  {
   "cell_type": "code",
   "execution_count": 2,
   "metadata": {
    "id": "u9H_OQtVsJ-Y"
   },
   "outputs": [],
   "source": [
    "class MultiLabelDataset(Dataset):\n",
    "    def __init__(self, csv_file, root_dir, transform=None):\n",
    "        self.root_dir = root_dir\n",
    "        self.annotations = pd.read_csv(csv_file)\n",
    "        self.transform = transform\n",
    "\n",
    "    def __len__(self):\n",
    "        return len(self.annotations)\n",
    "\n",
    "    def __getitem__(self, idx):\n",
    "        if torch.is_tensor(idx):\n",
    "            idx = idx.tolist()\n",
    "\n",
    "        img_name = os.path.join(self.root_dir,self.annotations.iloc[idx, 1])\n",
    "        image = io.imread(img_name)\n",
    "        labels = self.annotations.iloc[idx, 2]\n",
    "\n",
    "        sample = {'image': image, 'labels': labels}\n",
    "\n",
    "        if self.transform:\n",
    "            sample['image'] = self.transform(sample['image'])\n",
    "            \n",
    "#         print(\"sample\",sample)\n",
    "        return sample"
   ]
  },
  {
   "cell_type": "code",
   "execution_count": 3,
   "metadata": {
    "id": "bhwUYY-JE0Hh"
   },
   "outputs": [],
   "source": [
    "classes = {'T-Shirt','Trouser','PullOver','Dress','Coat','Sandal','Shirt','Sneaker','Bag','Ankle Boot'}\n",
    "\n",
    "batch_size=4\n",
    "label_count=len(classes)\n",
    "\n",
    "\n",
    "\n",
    "trainset = MultiLabelDataset(csv_file = '/home/dnn4/pythonCodeArea/sayam/train/labels.csv',root_dir = '/home/dnn4/pythonCodeArea/sayam/train/',transform = transforms.Compose([transforms.ToTensor()]))\n",
    "trainloader = DataLoader(trainset, batch_size=batch_size,shuffle=True, num_workers=10)\n",
    "testset = MultiLabelDataset(csv_file = '/home/dnn4/pythonCodeArea/sayam/test/labels.csv', root_dir = '/home/dnn4/pythonCodeArea/sayam/test/',transform = transforms.Compose([transforms.ToTensor()]))\n",
    "testloader = DataLoader(trainset, batch_size=batch_size,shuffle=False, num_workers=10)"
   ]
  },
  {
   "cell_type": "code",
   "execution_count": 4,
   "metadata": {},
   "outputs": [
    {
     "data": {
      "text/plain": [
       "['[1, 1, 0, 1, 0, 0, 0, 0, 0, 1]',\n",
       " '[1, 0, 1, 1, 1, 0, 0, 0, 0, 0]',\n",
       " '[0, 0, 1, 0, 1, 0, 0, 1, 0, 1]',\n",
       " '[0, 0, 0, 0, 0, 0, 1, 1, 1, 0]']"
      ]
     },
     "execution_count": 4,
     "metadata": {},
     "output_type": "execute_result"
    }
   ],
   "source": [
    "img=next(iter(testloader))\n",
    "img['labels']"
   ]
  },
  {
   "cell_type": "markdown",
   "metadata": {
    "id": "ffpergPL5TXR"
   },
   "source": [
    "Convolution Neural Network"
   ]
  },
  {
   "cell_type": "code",
   "execution_count": 5,
   "metadata": {
    "id": "XDtyzJHE5Wsc"
   },
   "outputs": [],
   "source": [
    "class Net(nn.Module):\n",
    "    def __init__(self):\n",
    "        super().__init__()\n",
    "        res_state=tmodels.resnet18(pretrained=True)\n",
    "        self.cnn=nn.Sequential(*list(res_state.children())[:-1])\n",
    "        self.f3 = nn.Linear(512, 10)\n",
    "\n",
    "    def forward(self, x):\n",
    "        x=self.cnn(x)\n",
    "        x=torch.squeeze(x)\n",
    "#         print(\"x.shape\",x.shape)\n",
    "        x = self.f3(x)\n",
    "        return x"
   ]
  },
  {
   "cell_type": "code",
   "execution_count": 6,
   "metadata": {},
   "outputs": [],
   "source": [
    "net = Net()\n",
    "net = net.cuda()"
   ]
  },
  {
   "cell_type": "code",
   "execution_count": 7,
   "metadata": {},
   "outputs": [],
   "source": [
    "# x=torch.rand(4,1,28,128)\n",
    "\n",
    "# x=x.repeat(1, 3, 1,1)\n",
    "# x=x.cuda()\n",
    "# y=net(x)\n"
   ]
  },
  {
   "cell_type": "markdown",
   "metadata": {
    "id": "PMI3cCNu5a9E"
   },
   "source": [
    "Loss Function"
   ]
  },
  {
   "cell_type": "code",
   "execution_count": 8,
   "metadata": {
    "id": "eC9OZhMO6iuU"
   },
   "outputs": [],
   "source": [
    "criterion = nn.BCEWithLogitsLoss()\n",
    "optimiser = optim.SGD(net.parameters(), lr=0.01, momentum=0.9)"
   ]
  },
  {
   "cell_type": "markdown",
   "metadata": {
    "id": "P1jLG0KL7kHI"
   },
   "source": [
    "Train the Network"
   ]
  },
  {
   "cell_type": "code",
   "execution_count": 9,
   "metadata": {
    "id": "tHFvY27E7sEW"
   },
   "outputs": [
    {
     "name": "stdout",
     "output_type": "stream",
     "text": [
      "epoch: 1 loss:  0.0 accuracy: 25.0\n",
      "epoch: 2 loss:  0.0 accuracy: 25.0\n",
      "epoch: 3 loss:  0.0 accuracy: 25.0\n",
      "epoch: 4 loss:  0.0 accuracy: 25.0\n",
      "Done\n"
     ]
    }
   ],
   "source": [
    "for epoch in range(4):  # Iterations over the dataset\n",
    "    loss_at_iteration = 0.0\n",
    "    total=0.0\n",
    "    correct=0\n",
    "    x = 0\n",
    "    y = 0\n",
    "    for i, data in enumerate(trainloader, 0):\n",
    "        # get the inputs\n",
    "        inputs, labels= data['image'], data['labels']\n",
    "        inputs=inputs.repeat(1, 3, 1,1)\n",
    "#         print('labels',labels)\n",
    "#         for t in range(len(labels)):\n",
    "#             labels[t]=list(labels[t])\n",
    "#         print('labels',labels)\n",
    "            \n",
    "        m=torch.zeros([batch_size,label_count])\n",
    "        for i in range(batch_size):\n",
    "            for j in range(label_count):\n",
    "                if labels[i][j]!='[' and labels[i][j]!=']' and labels[i][j]!=',' and labels[i][j]!=' ':\n",
    "                    m[i][j]=int(labels[i][j]) \n",
    "                    \n",
    "        inputs = inputs.cuda(), \n",
    "#         labels = torch.Tensor(labels)\n",
    "        m = m.cuda()\n",
    "\n",
    "        # set the parameter gradients to zero\n",
    "        optimiser.zero_grad()\n",
    "\n",
    "        # forward backward and optimise\n",
    "        outputs = net(inputs[0])\n",
    "        \n",
    "#         print(type(outputs),type(labels))\n",
    "        loss = criterion(outputs, m)\n",
    "        loss.backward()\n",
    "        optimiser.step()\n",
    "        \n",
    "        \n",
    "        predicted=torch.topk(outputs, 4)\n",
    "        predicted_indices = predicted[1]        \n",
    "\n",
    "        total += m.shape[0]*4\n",
    "        \n",
    "        multi_hot_GT=torch.zeros([batch_size,label_count]).cuda()\n",
    "        for i in range(batch_size):\n",
    "            for p in range(len(predicted_indices[i])):\n",
    "                multi_hot_GT[i][predicted_indices[i]]=1        \n",
    "        \n",
    "#         print(\"(multi_hot_GT == m1).sum().item()\",(multi_hot_GT == m1).sum().item())\n",
    "        for i in range(batch_size):\n",
    "            for j in range(label_count):\n",
    "                if m[i][j]==1 and multi_hot_GT[i][j]==1:\n",
    "                    correct+=1 \n",
    "        \n",
    "        \n",
    "        #if i % 100 == 99:    # print every 2000th mini-batche\n",
    "#     print(f'{epoch + 1} epoch loss: {loss_at_iteration.3f} accuracy: {100 * correct // total}')\n",
    "    print('epoch:', epoch + 1,'loss: ',loss_at_iteration, 'accuracy:', 100 * correct // total)\n",
    "\n",
    "    loss_at_iteration = 0.0\n",
    "\n",
    "print('Done')"
   ]
  },
  {
   "cell_type": "code",
   "execution_count": 10,
   "metadata": {},
   "outputs": [
    {
     "data": {
      "text/plain": [
       "torch.Tensor"
      ]
     },
     "execution_count": 10,
     "metadata": {},
     "output_type": "execute_result"
    }
   ],
   "source": [
    "type(inputs[0])"
   ]
  },
  {
   "cell_type": "code",
   "execution_count": 11,
   "metadata": {
    "id": "wrMcBuVI8kT0"
   },
   "outputs": [],
   "source": [
    "#To Save The Network\n",
    "PATH = './cifar_net.pth'\n",
    "torch.save(net.state_dict(), PATH)"
   ]
  },
  {
   "cell_type": "markdown",
   "metadata": {
    "id": "JPx41Dim8lXt"
   },
   "source": [
    "Test the Network"
   ]
  },
  {
   "cell_type": "code",
   "execution_count": 12,
   "metadata": {
    "id": "rHSxwzo78pT2"
   },
   "outputs": [
    {
     "data": {
      "image/png": "[encoded data removed]",
      "text/plain": [
       "<Figure size 432x288 with 1 Axes>"
      ]
     },
     "metadata": {
      "needs_background": "light"
     },
     "output_type": "display_data"
    }
   ],
   "source": [
    "#function to show image\n",
    "def imshow(img):\n",
    "    img = img / 2 + 0.5     # unnormalize\n",
    "    npimg = img.numpy()\n",
    "    plt.imshow(np.transpose(npimg, (1, 2, 0)))\n",
    "    plt.show()\n",
    "\n",
    "data_iter = iter(testloader)\n",
    "images, labels = data_iter.next()['image'] , data_iter.next()['labels']\n",
    "\n",
    "# print images\n",
    "imshow(torchvision.utils.make_grid(images))\n",
    "#print('Ground Truth: ', ' '.join(f'{classes[labels[j][0]]:5s}' for j in range(4)))"
   ]
  },
  {
   "cell_type": "code",
   "execution_count": 13,
   "metadata": {
    "id": "CEuTBOl984Z6"
   },
   "outputs": [],
   "source": [
    "#Reload the saved Model\n",
    "net = Net()\n",
    "net.load_state_dict(torch.load(PATH))\n",
    "net = net.cuda()\n",
    "images, m = images.cuda(), m.cuda()"
   ]
  },
  {
   "cell_type": "code",
   "execution_count": 14,
   "metadata": {
    "id": "xurWJPSj88LA"
   },
   "outputs": [
    {
     "ename": "RuntimeError",
     "evalue": "Given groups=1, weight of size [64, 3, 7, 7], expected input[4, 1, 28, 112] to have 3 channels, but got 1 channels instead",
     "output_type": "error",
     "traceback": [
      "\u001b[0;31m---------------------------------------------------------------------------\u001b[0m",
      "\u001b[0;31mRuntimeError\u001b[0m                              Traceback (most recent call last)",
      "Input \u001b[0;32mIn [14]\u001b[0m, in \u001b[0;36m<cell line: 6>\u001b[0;34m()\u001b[0m\n\u001b[1;32m     17\u001b[0m         images, m1 \u001b[38;5;241m=\u001b[39m images\u001b[38;5;241m.\u001b[39mcuda(), m1\u001b[38;5;241m.\u001b[39mcuda()\n\u001b[1;32m     20\u001b[0m \u001b[38;5;66;03m#         print(\"images.shape\",images.shape)\u001b[39;00m\n\u001b[1;32m     21\u001b[0m         \u001b[38;5;66;03m# outputs by running images through the network\u001b[39;00m\n\u001b[0;32m---> 22\u001b[0m         outputs \u001b[38;5;241m=\u001b[39m \u001b[43mnet\u001b[49m\u001b[43m(\u001b[49m\u001b[43mimages\u001b[49m\u001b[43m)\u001b[49m\n\u001b[1;32m     23\u001b[0m         \u001b[38;5;66;03m# the class with the highest energy is what we choose as prediction\u001b[39;00m\n\u001b[1;32m     24\u001b[0m         \n\u001b[1;32m     25\u001b[0m         \n\u001b[1;32m     26\u001b[0m         \n\u001b[1;32m     27\u001b[0m \u001b[38;5;66;03m#         _, predicted = torch.sort(outputs.data, 1)\u001b[39;00m\n\u001b[1;32m     28\u001b[0m         predicted\u001b[38;5;241m=\u001b[39mtorch\u001b[38;5;241m.\u001b[39mtopk(outputs, \u001b[38;5;241m4\u001b[39m)\n",
      "File \u001b[0;32m~/.local/lib/python3.8/site-packages/torch/nn/modules/module.py:889\u001b[0m, in \u001b[0;36mModule._call_impl\u001b[0;34m(self, *input, **kwargs)\u001b[0m\n\u001b[1;32m    887\u001b[0m     result \u001b[38;5;241m=\u001b[39m \u001b[38;5;28mself\u001b[39m\u001b[38;5;241m.\u001b[39m_slow_forward(\u001b[38;5;241m*\u001b[39m\u001b[38;5;28minput\u001b[39m, \u001b[38;5;241m*\u001b[39m\u001b[38;5;241m*\u001b[39mkwargs)\n\u001b[1;32m    888\u001b[0m \u001b[38;5;28;01melse\u001b[39;00m:\n\u001b[0;32m--> 889\u001b[0m     result \u001b[38;5;241m=\u001b[39m \u001b[38;5;28;43mself\u001b[39;49m\u001b[38;5;241;43m.\u001b[39;49m\u001b[43mforward\u001b[49m\u001b[43m(\u001b[49m\u001b[38;5;241;43m*\u001b[39;49m\u001b[38;5;28;43minput\u001b[39;49m\u001b[43m,\u001b[49m\u001b[43m \u001b[49m\u001b[38;5;241;43m*\u001b[39;49m\u001b[38;5;241;43m*\u001b[39;49m\u001b[43mkwargs\u001b[49m\u001b[43m)\u001b[49m\n\u001b[1;32m    890\u001b[0m \u001b[38;5;28;01mfor\u001b[39;00m hook \u001b[38;5;129;01min\u001b[39;00m itertools\u001b[38;5;241m.\u001b[39mchain(\n\u001b[1;32m    891\u001b[0m         _global_forward_hooks\u001b[38;5;241m.\u001b[39mvalues(),\n\u001b[1;32m    892\u001b[0m         \u001b[38;5;28mself\u001b[39m\u001b[38;5;241m.\u001b[39m_forward_hooks\u001b[38;5;241m.\u001b[39mvalues()):\n\u001b[1;32m    893\u001b[0m     hook_result \u001b[38;5;241m=\u001b[39m hook(\u001b[38;5;28mself\u001b[39m, \u001b[38;5;28minput\u001b[39m, result)\n",
      "Input \u001b[0;32mIn [5]\u001b[0m, in \u001b[0;36mNet.forward\u001b[0;34m(self, x)\u001b[0m\n\u001b[1;32m      8\u001b[0m     \u001b[38;5;28;01mdef\u001b[39;00m \u001b[38;5;21mforward\u001b[39m(\u001b[38;5;28mself\u001b[39m, x):\n\u001b[0;32m----> 9\u001b[0m         x\u001b[38;5;241m=\u001b[39m\u001b[38;5;28;43mself\u001b[39;49m\u001b[38;5;241;43m.\u001b[39;49m\u001b[43mcnn\u001b[49m\u001b[43m(\u001b[49m\u001b[43mx\u001b[49m\u001b[43m)\u001b[49m\n\u001b[1;32m     10\u001b[0m         x\u001b[38;5;241m=\u001b[39mtorch\u001b[38;5;241m.\u001b[39msqueeze(x)\n\u001b[1;32m     11\u001b[0m \u001b[38;5;66;03m#         print(\"x.shape\",x.shape)\u001b[39;00m\n",
      "File \u001b[0;32m~/.local/lib/python3.8/site-packages/torch/nn/modules/module.py:889\u001b[0m, in \u001b[0;36mModule._call_impl\u001b[0;34m(self, *input, **kwargs)\u001b[0m\n\u001b[1;32m    887\u001b[0m     result \u001b[38;5;241m=\u001b[39m \u001b[38;5;28mself\u001b[39m\u001b[38;5;241m.\u001b[39m_slow_forward(\u001b[38;5;241m*\u001b[39m\u001b[38;5;28minput\u001b[39m, \u001b[38;5;241m*\u001b[39m\u001b[38;5;241m*\u001b[39mkwargs)\n\u001b[1;32m    888\u001b[0m \u001b[38;5;28;01melse\u001b[39;00m:\n\u001b[0;32m--> 889\u001b[0m     result \u001b[38;5;241m=\u001b[39m \u001b[38;5;28;43mself\u001b[39;49m\u001b[38;5;241;43m.\u001b[39;49m\u001b[43mforward\u001b[49m\u001b[43m(\u001b[49m\u001b[38;5;241;43m*\u001b[39;49m\u001b[38;5;28;43minput\u001b[39;49m\u001b[43m,\u001b[49m\u001b[43m \u001b[49m\u001b[38;5;241;43m*\u001b[39;49m\u001b[38;5;241;43m*\u001b[39;49m\u001b[43mkwargs\u001b[49m\u001b[43m)\u001b[49m\n\u001b[1;32m    890\u001b[0m \u001b[38;5;28;01mfor\u001b[39;00m hook \u001b[38;5;129;01min\u001b[39;00m itertools\u001b[38;5;241m.\u001b[39mchain(\n\u001b[1;32m    891\u001b[0m         _global_forward_hooks\u001b[38;5;241m.\u001b[39mvalues(),\n\u001b[1;32m    892\u001b[0m         \u001b[38;5;28mself\u001b[39m\u001b[38;5;241m.\u001b[39m_forward_hooks\u001b[38;5;241m.\u001b[39mvalues()):\n\u001b[1;32m    893\u001b[0m     hook_result \u001b[38;5;241m=\u001b[39m hook(\u001b[38;5;28mself\u001b[39m, \u001b[38;5;28minput\u001b[39m, result)\n",
      "File \u001b[0;32m~/.local/lib/python3.8/site-packages/torch/nn/modules/container.py:119\u001b[0m, in \u001b[0;36mSequential.forward\u001b[0;34m(self, input)\u001b[0m\n\u001b[1;32m    117\u001b[0m \u001b[38;5;28;01mdef\u001b[39;00m \u001b[38;5;21mforward\u001b[39m(\u001b[38;5;28mself\u001b[39m, \u001b[38;5;28minput\u001b[39m):\n\u001b[1;32m    118\u001b[0m     \u001b[38;5;28;01mfor\u001b[39;00m module \u001b[38;5;129;01min\u001b[39;00m \u001b[38;5;28mself\u001b[39m:\n\u001b[0;32m--> 119\u001b[0m         \u001b[38;5;28minput\u001b[39m \u001b[38;5;241m=\u001b[39m \u001b[43mmodule\u001b[49m\u001b[43m(\u001b[49m\u001b[38;5;28;43minput\u001b[39;49m\u001b[43m)\u001b[49m\n\u001b[1;32m    120\u001b[0m     \u001b[38;5;28;01mreturn\u001b[39;00m \u001b[38;5;28minput\u001b[39m\n",
      "File \u001b[0;32m~/.local/lib/python3.8/site-packages/torch/nn/modules/module.py:889\u001b[0m, in \u001b[0;36mModule._call_impl\u001b[0;34m(self, *input, **kwargs)\u001b[0m\n\u001b[1;32m    887\u001b[0m     result \u001b[38;5;241m=\u001b[39m \u001b[38;5;28mself\u001b[39m\u001b[38;5;241m.\u001b[39m_slow_forward(\u001b[38;5;241m*\u001b[39m\u001b[38;5;28minput\u001b[39m, \u001b[38;5;241m*\u001b[39m\u001b[38;5;241m*\u001b[39mkwargs)\n\u001b[1;32m    888\u001b[0m \u001b[38;5;28;01melse\u001b[39;00m:\n\u001b[0;32m--> 889\u001b[0m     result \u001b[38;5;241m=\u001b[39m \u001b[38;5;28;43mself\u001b[39;49m\u001b[38;5;241;43m.\u001b[39;49m\u001b[43mforward\u001b[49m\u001b[43m(\u001b[49m\u001b[38;5;241;43m*\u001b[39;49m\u001b[38;5;28;43minput\u001b[39;49m\u001b[43m,\u001b[49m\u001b[43m \u001b[49m\u001b[38;5;241;43m*\u001b[39;49m\u001b[38;5;241;43m*\u001b[39;49m\u001b[43mkwargs\u001b[49m\u001b[43m)\u001b[49m\n\u001b[1;32m    890\u001b[0m \u001b[38;5;28;01mfor\u001b[39;00m hook \u001b[38;5;129;01min\u001b[39;00m itertools\u001b[38;5;241m.\u001b[39mchain(\n\u001b[1;32m    891\u001b[0m         _global_forward_hooks\u001b[38;5;241m.\u001b[39mvalues(),\n\u001b[1;32m    892\u001b[0m         \u001b[38;5;28mself\u001b[39m\u001b[38;5;241m.\u001b[39m_forward_hooks\u001b[38;5;241m.\u001b[39mvalues()):\n\u001b[1;32m    893\u001b[0m     hook_result \u001b[38;5;241m=\u001b[39m hook(\u001b[38;5;28mself\u001b[39m, \u001b[38;5;28minput\u001b[39m, result)\n",
      "File \u001b[0;32m~/.local/lib/python3.8/site-packages/torch/nn/modules/conv.py:399\u001b[0m, in \u001b[0;36mConv2d.forward\u001b[0;34m(self, input)\u001b[0m\n\u001b[1;32m    398\u001b[0m \u001b[38;5;28;01mdef\u001b[39;00m \u001b[38;5;21mforward\u001b[39m(\u001b[38;5;28mself\u001b[39m, \u001b[38;5;28minput\u001b[39m: Tensor) \u001b[38;5;241m-\u001b[39m\u001b[38;5;241m>\u001b[39m Tensor:\n\u001b[0;32m--> 399\u001b[0m     \u001b[38;5;28;01mreturn\u001b[39;00m \u001b[38;5;28;43mself\u001b[39;49m\u001b[38;5;241;43m.\u001b[39;49m\u001b[43m_conv_forward\u001b[49m\u001b[43m(\u001b[49m\u001b[38;5;28;43minput\u001b[39;49m\u001b[43m,\u001b[49m\u001b[43m \u001b[49m\u001b[38;5;28;43mself\u001b[39;49m\u001b[38;5;241;43m.\u001b[39;49m\u001b[43mweight\u001b[49m\u001b[43m,\u001b[49m\u001b[43m \u001b[49m\u001b[38;5;28;43mself\u001b[39;49m\u001b[38;5;241;43m.\u001b[39;49m\u001b[43mbias\u001b[49m\u001b[43m)\u001b[49m\n",
      "File \u001b[0;32m~/.local/lib/python3.8/site-packages/torch/nn/modules/conv.py:395\u001b[0m, in \u001b[0;36mConv2d._conv_forward\u001b[0;34m(self, input, weight, bias)\u001b[0m\n\u001b[1;32m    391\u001b[0m \u001b[38;5;28;01mif\u001b[39;00m \u001b[38;5;28mself\u001b[39m\u001b[38;5;241m.\u001b[39mpadding_mode \u001b[38;5;241m!=\u001b[39m \u001b[38;5;124m'\u001b[39m\u001b[38;5;124mzeros\u001b[39m\u001b[38;5;124m'\u001b[39m:\n\u001b[1;32m    392\u001b[0m     \u001b[38;5;28;01mreturn\u001b[39;00m F\u001b[38;5;241m.\u001b[39mconv2d(F\u001b[38;5;241m.\u001b[39mpad(\u001b[38;5;28minput\u001b[39m, \u001b[38;5;28mself\u001b[39m\u001b[38;5;241m.\u001b[39m_reversed_padding_repeated_twice, mode\u001b[38;5;241m=\u001b[39m\u001b[38;5;28mself\u001b[39m\u001b[38;5;241m.\u001b[39mpadding_mode),\n\u001b[1;32m    393\u001b[0m                     weight, bias, \u001b[38;5;28mself\u001b[39m\u001b[38;5;241m.\u001b[39mstride,\n\u001b[1;32m    394\u001b[0m                     _pair(\u001b[38;5;241m0\u001b[39m), \u001b[38;5;28mself\u001b[39m\u001b[38;5;241m.\u001b[39mdilation, \u001b[38;5;28mself\u001b[39m\u001b[38;5;241m.\u001b[39mgroups)\n\u001b[0;32m--> 395\u001b[0m \u001b[38;5;28;01mreturn\u001b[39;00m \u001b[43mF\u001b[49m\u001b[38;5;241;43m.\u001b[39;49m\u001b[43mconv2d\u001b[49m\u001b[43m(\u001b[49m\u001b[38;5;28;43minput\u001b[39;49m\u001b[43m,\u001b[49m\u001b[43m \u001b[49m\u001b[43mweight\u001b[49m\u001b[43m,\u001b[49m\u001b[43m \u001b[49m\u001b[43mbias\u001b[49m\u001b[43m,\u001b[49m\u001b[43m \u001b[49m\u001b[38;5;28;43mself\u001b[39;49m\u001b[38;5;241;43m.\u001b[39;49m\u001b[43mstride\u001b[49m\u001b[43m,\u001b[49m\n\u001b[1;32m    396\u001b[0m \u001b[43m                \u001b[49m\u001b[38;5;28;43mself\u001b[39;49m\u001b[38;5;241;43m.\u001b[39;49m\u001b[43mpadding\u001b[49m\u001b[43m,\u001b[49m\u001b[43m \u001b[49m\u001b[38;5;28;43mself\u001b[39;49m\u001b[38;5;241;43m.\u001b[39;49m\u001b[43mdilation\u001b[49m\u001b[43m,\u001b[49m\u001b[43m \u001b[49m\u001b[38;5;28;43mself\u001b[39;49m\u001b[38;5;241;43m.\u001b[39;49m\u001b[43mgroups\u001b[49m\u001b[43m)\u001b[49m\n",
      "\u001b[0;31mRuntimeError\u001b[0m: Given groups=1, weight of size [64, 3, 7, 7], expected input[4, 1, 28, 112] to have 3 channels, but got 1 channels instead"
     ]
    }
   ],
   "source": [
    "# outputs = net(images[0])\n",
    "# _,predicted = torch.sort(outputs,1)\n",
    "# predicted = predicted[-4:]\n",
    "\n",
    "# since we're not training, we don't need to calculate the gradients for our outputs\n",
    "with torch.no_grad():\n",
    "    correct = 0\n",
    "    total = 0\n",
    "    for data in testloader:\n",
    "        images, labels = data['image'],data['labels']\n",
    "        m1=torch.zeros([batch_size,label_count])\n",
    "        for i in range(batch_size):\n",
    "            for j in range(label_count):\n",
    "                if labels[i][j]!='[' and labels[i][j]!=']' and labels[i][j]!=',' and labels[i][j]!=' ':\n",
    "                    m1[i][j]=int(labels[i][j]) \n",
    "                    \n",
    "        images, m1 = images.cuda(), m1.cuda()\n",
    "        \n",
    "        \n",
    "#         print(\"images.shape\",images.shape)\n",
    "        # outputs by running images through the network\n",
    "        outputs = net(images)\n",
    "        # the class with the highest energy is what we choose as prediction\n",
    "        \n",
    "        \n",
    "        \n",
    "#         _, predicted = torch.sort(outputs.data, 1)\n",
    "        predicted=torch.topk(outputs, 4)\n",
    "        predicted_indices = predicted[1]\n",
    "        \n",
    "        multi_hot_GT=torch.zeros([batch_size,label_count]).cuda()\n",
    "        for i in range(batch_size):\n",
    "            for p in range(len(predicted_indices[i])):\n",
    "                multi_hot_GT[i][predicted_indices[i]]=1\n",
    "\n",
    "#         print(\"m1\",m1)#,predicted)\n",
    "#         print(\"multi_hot_GT\",multi_hot_GT)\n",
    "        \n",
    "        total += m1.shape[0]*4\n",
    "#         print(\"(multi_hot_GT == m1).sum().item()\",(multi_hot_GT == m1).sum().item())\n",
    "        for i in range(batch_size):\n",
    "            for j in range(label_count):\n",
    "                if m1[i][j]==1 and multi_hot_GT[i][j]==1:\n",
    "                    correct+=1\n",
    "        \n",
    "        \n",
    "#         correct += (multi_hot_GT == m1).sum().item()\n",
    "        \n",
    "        \n",
    "\n",
    "print(f'Accuracy on the 10000 test images: {100 * correct // total} %')"
   ]
  },
  {
   "cell_type": "code",
   "execution_count": null,
   "metadata": {},
   "outputs": [],
   "source": [
    "def multi_hot_func(multihot_batch):\n",
    "    print(multihot_batch.shape)\n",
    "#     multihot_batch = torch.tensor([[0,1,0,1], [0,0,0,1], [0,0,1,1]])\n",
    "    #multihot_batch = torch.tensor([[0,1,0,1], [0,0,0,1], [0,0,1,1], [0,0,0,1]])\n",
    "    vnon = (multihot_batch == torch.tensor(1)).nonzero(as_tuple=False).cuda()\n",
    "    v0 = vnon[:,0].cuda()\n",
    "    v1 = vnon[:,1].cuda()\n",
    "\n",
    "    # 0-based index -> 1-based index\n",
    "    split_ind = ((torch.roll(v0, -1, 0) - v0) == 1).nonzero(as_tuple=False)[:,0] + 1\n",
    "    split_ind = split_ind.cuda()\n",
    "    print(split_ind.shape)\n",
    "    # the first index is excatly the split size of the first split\n",
    "    # the other splits(apart from the last one) can be obtained by this\n",
    "    split_size = torch.cat([split_ind[0].view(1),(torch.roll(split_ind, -1, 0) - split_ind)[:-1]])\n",
    "    # add the final split size\n",
    "    split_size=split_size.cuda()\n",
    "    \n",
    "    final_size = torch.tensor([torch.numel(v1) - torch.sum(split_size)])\n",
    "    \n",
    "    final_size=final_size.cuda()\n",
    "    split_size = torch.cat([split_size, final_size])\n",
    "    \n",
    "    return torch.split(v1, split_size.tolist())\n",
    "\n",
    "# print()"
   ]
  },
  {
   "cell_type": "code",
   "execution_count": null,
   "metadata": {},
   "outputs": [],
   "source": [
    "multihot_batch = torch.tensor([[0,1,0,1], [0,0,0,1], [0,0,1,1]])\n",
    "multihot_batch.shape"
   ]
  }
 ],
 "metadata": {
  "accelerator": "GPU",
  "colab": {
   "collapsed_sections": [],
   "name": "Untitled0.ipynb",
   "provenance": []
  },
  "gpuClass": "standard",
  "kernelspec": {
   "display_name": "Python 3 (ipykernel)",
   "language": "python",
   "name": "python3"
  },
  "language_info": {
   "codemirror_mode": {
    "name": "ipython",
    "version": 3
   },
   "file_extension": ".py",
   "mimetype": "text/x-python",
   "name": "python",
   "nbconvert_exporter": "python",
   "pygments_lexer": "ipython3",
   "version": "3.8.10"
  }
 },
 "nbformat": 4,
 "nbformat_minor": 1
}
